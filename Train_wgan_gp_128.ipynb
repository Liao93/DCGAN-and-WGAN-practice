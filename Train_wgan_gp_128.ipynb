{
  "nbformat": 4,
  "nbformat_minor": 0,
  "metadata": {
    "accelerator": "GPU",
    "colab": {
      "name": "Train_wgan_gp.ipynb 的副本",
      "provenance": [],
      "collapsed_sections": []
    },
    "kernelspec": {
      "display_name": "Python 3",
      "name": "python3"
    },
    "language_info": {
      "name": "python"
    }
  },
  "cells": [
    {
      "cell_type": "code",
      "metadata": {
        "id": "St4XAYcYkDNE"
      },
      "source": [
        "from __future__ import print_function\n",
        "#%matplotlib inline\n",
        "import random\n",
        "import torch\n",
        "import torch\n",
        "import torch.nn as nn\n",
        "import torch.nn.parallel\n",
        "import torch.backends.cudnn as cudnn\n",
        "import torch.optim as optim\n",
        "import torch.utils.data\n",
        "import torchvision.datasets as dset\n",
        "import torchvision.transforms as transforms\n",
        "import torchvision.utils as vutils\n",
        "import torch.autograd as autograd\n",
        "import numpy as np\n",
        "import matplotlib.pyplot as plt\n",
        "from PIL import Image"
      ],
      "execution_count": null,
      "outputs": []
    },
    {
      "cell_type": "code",
      "metadata": {
        "id": "_ZaRrRXEnLJJ"
      },
      "source": [
        "from google.colab import drive\n",
        "drive.mount('/content/drive')\n",
        "\n",
        "!unzip #unzip data.zip"
      ],
      "execution_count": null,
      "outputs": []
    },
    {
      "cell_type": "markdown",
      "metadata": {
        "id": "UYDp_zkKj7fU"
      },
      "source": [
        "# Set random seed for reproducibility"
      ]
    },
    {
      "cell_type": "code",
      "metadata": {
        "colab": {
          "base_uri": "https://localhost:8080/"
        },
        "id": "4sHUvFbfiq_k",
        "outputId": "c4405bfe-231b-4acc-c200-973498e4df6d"
      },
      "source": [
        "manualSeed = 999\n",
        "#manualSeed = random.randint(1, 10000) # use if you want new results\n",
        "print(\"Random Seed: \", manualSeed)\n",
        "random.seed(manualSeed)\n",
        "torch.manual_seed(manualSeed)"
      ],
      "execution_count": null,
      "outputs": [
        {
          "output_type": "stream",
          "text": [
            "Random Seed:  999\n"
          ],
          "name": "stdout"
        },
        {
          "output_type": "execute_result",
          "data": {
            "text/plain": [
              "<torch._C.Generator at 0x7f10c9abe8f0>"
            ]
          },
          "metadata": {
            "tags": []
          },
          "execution_count": 3
        }
      ]
    },
    {
      "cell_type": "markdown",
      "metadata": {
        "id": "SXklacLeoxZj"
      },
      "source": [
        "# Define some parameters"
      ]
    },
    {
      "cell_type": "code",
      "metadata": {
        "id": "ZEvbkNbSjUHZ"
      },
      "source": [
        "# Root directory for dataset\n",
        "dataroot = './data'\n",
        "\n",
        "# Number of workers for dataloader\n",
        "workers = 2\n",
        "\n",
        "# Batch size during training\n",
        "batch_size = 32\n",
        "\n",
        "# Spatial size of training images. All images will be resized to this\n",
        "#   size using a transformer.\n",
        "image_size = 128\n",
        "\n",
        "# The range of degrees for random rotation\n",
        "degree = 10.0\n",
        "\n",
        "# Number of channels in the training images. For color images this is 3\n",
        "nc = 3\n",
        "\n",
        "# Size of z latent vector (i.e. size of generator input)\n",
        "nz = 100\n",
        "\n",
        "# Size of feature maps in generator\n",
        "ngf = 64\n",
        "\n",
        "# Size of feature maps in discriminator\n",
        "ndf = 64\n",
        "\n",
        "# Number of GPUs available. Use 0 for CPU mode.\n",
        "ngpu = 1"
      ],
      "execution_count": null,
      "outputs": []
    },
    {
      "cell_type": "markdown",
      "metadata": {
        "id": "NNsg5h9RjqPu"
      },
      "source": [
        "# Create the dataset (using ImageFolder)"
      ]
    },
    {
      "cell_type": "code",
      "metadata": {
        "id": "Epm-m3Z3jlvy"
      },
      "source": [
        "# We can use an image folder dataset the way we have it setup.\n",
        "dataset = dset.ImageFolder(root=dataroot,\n",
        "              transform=transforms.Compose([\n",
        "                transforms.Resize(image_size),\n",
        "                transforms.CenterCrop(image_size),\n",
        "                transforms.ToTensor(),\n",
        "                transforms.Normalize((0.5, 0.5, 0.5), (0.5, 0.5, 0.5)), \n",
        "                # image = (image - mean) / std\n",
        "                # min: (0 - 0.5) / 0.5 = -1\n",
        "                # max: (1 - 0.5) / 0.5 = 1\n",
        "                transforms.RandomHorizontalFlip(),\n",
        "                transforms.RandomRotation(degrees=degree, interpolation=Image.BILINEAR, fill=-1.0)\n",
        "                ]))\n",
        "# Create the dataloader\n",
        "dataloader = torch.utils.data.DataLoader(dataset, batch_size=batch_size, shuffle=True, num_workers=workers)\n",
        "\n",
        "# Decide which device we want to run on\n",
        "device = torch.device(\"cuda:0\" if (torch.cuda.is_available() and ngpu > 0) else \"cpu\")\n",
        "\n",
        "# Plot some training images\n",
        "real_batch = next(iter(dataloader))\n",
        "plt.figure(figsize=(16,16))\n",
        "plt.axis(\"off\")\n",
        "plt.title(\"Training Images\")\n",
        "plt.imshow(np.transpose(vutils.make_grid(real_batch[0].to(device)[:64], padding=2, normalize=True).cpu(),(1,2,0)))"
      ],
      "execution_count": null,
      "outputs": []
    },
    {
      "cell_type": "code",
      "metadata": {
        "id": "VkOscuBer2eO"
      },
      "source": [
        "from collections import Counter\n",
        "print('Number of Image:')\n",
        "print(dict(Counter(dataset.targets))[0])"
      ],
      "execution_count": null,
      "outputs": []
    },
    {
      "cell_type": "markdown",
      "metadata": {
        "id": "tgaWGyFGsIkI"
      },
      "source": [
        "# Weight Initialization"
      ]
    },
    {
      "cell_type": "code",
      "metadata": {
        "id": "AlN8IOStsKh8"
      },
      "source": [
        "# custom weights initialization called on netG and netD\n",
        "def weights_init(m):\n",
        "    classname = m.__class__.__name__\n",
        "    if classname.find('Conv') != -1:\n",
        "        nn.init.normal_(m.weight.data, 0.0, 0.02)\n",
        "    elif classname.find('BatchNorm') != -1:\n",
        "        nn.init.normal_(m.weight.data, 1.0, 0.02)\n",
        "        nn.init.constant_(m.bias.data, 0)"
      ],
      "execution_count": null,
      "outputs": []
    },
    {
      "cell_type": "markdown",
      "metadata": {
        "id": "BaMgJekFsQxD"
      },
      "source": [
        "# Generator"
      ]
    },
    {
      "cell_type": "code",
      "metadata": {
        "id": "TD5RbSg5sSE0"
      },
      "source": [
        "# Generator Code\n",
        "\n",
        "class Generator(nn.Module):\n",
        "    def __init__(self, ngpu):\n",
        "        super(Generator, self).__init__()\n",
        "        self.ngpu = ngpu\n",
        "        self.main = nn.Sequential(\n",
        "            # input is Z, going into a convolution\n",
        "            nn.ConvTranspose2d( nz, ngf * 8, 4, 1, 0, bias=False),\n",
        "            nn.BatchNorm2d(ngf * 8),\n",
        "            nn.ReLU(True),\n",
        "            # state size. (ngf*8) x 4 x 4\n",
        "            nn.ConvTranspose2d(ngf * 8, ngf * 4, 4, 2, 1, bias=False),\n",
        "            nn.BatchNorm2d(ngf * 4),\n",
        "            nn.ReLU(True),\n",
        "            # state size. (ngf*4) x 8 x 8\n",
        "            nn.ConvTranspose2d( ngf * 4, ngf * 2, 4, 2, 1, bias=False),\n",
        "            nn.BatchNorm2d(ngf * 2),\n",
        "            nn.ReLU(True),\n",
        "            # state size. (ngf*2) x 16 x 16\n",
        "            nn.ConvTranspose2d( ngf * 2, ngf * 2, 4, 2, 1, bias=False),\n",
        "            nn.BatchNorm2d(ngf * 2),\n",
        "            nn.ReLU(True),\n",
        "            # state size. (ngf*2) x 32 x 32\n",
        "            nn.ConvTranspose2d( ngf * 2, ngf, 4, 2, 1, bias=False),\n",
        "            nn.BatchNorm2d(ngf),\n",
        "            nn.ReLU(True),\n",
        "            # state size. (ngf) x 64 x 64\n",
        "            nn.ConvTranspose2d( ngf, nc, 4, 2, 1, bias=False),\n",
        "            nn.Tanh()\n",
        "            # state size. (nc) x 128 x 128\n",
        "        )\n",
        "\n",
        "    def forward(self, input):\n",
        "        return self.main(input)"
      ],
      "execution_count": null,
      "outputs": []
    },
    {
      "cell_type": "code",
      "metadata": {
        "id": "5MkvWKgAsoQb"
      },
      "source": [
        "# Create the generator\n",
        "netG = Generator(ngpu).to(device)\n",
        "\n",
        "# Handle multi-gpu if desired\n",
        "if (device.type == 'cuda') and (ngpu > 1):\n",
        "    netG = nn.DataParallel(netG, list(range(ngpu)))\n",
        "\n",
        "# Apply the weights_init function to randomly initialize all weights\n",
        "#  to mean=0, stdev=0.2.\n",
        "netG.apply(weights_init)\n",
        "\n",
        "# Print the model\n",
        "print(netG)"
      ],
      "execution_count": null,
      "outputs": []
    },
    {
      "cell_type": "code",
      "metadata": {
        "colab": {
          "base_uri": "https://localhost:8080/"
        },
        "id": "ow6DgnVasvAG",
        "outputId": "aee34d52-3aad-412b-d0e7-854d2f2673cc"
      },
      "source": [
        "dummy_input = torch.randn(1, 100, 1, 1).to(device) # batch_size, channels, size, size\n",
        "out = netG(dummy_input)\n",
        "out.shape"
      ],
      "execution_count": null,
      "outputs": [
        {
          "output_type": "execute_result",
          "data": {
            "text/plain": [
              "torch.Size([1, 3, 128, 128])"
            ]
          },
          "metadata": {
            "tags": []
          },
          "execution_count": 10
        }
      ]
    },
    {
      "cell_type": "markdown",
      "metadata": {
        "id": "F39JeRIYuNMk"
      },
      "source": [
        "# Discriminator"
      ]
    },
    {
      "cell_type": "code",
      "metadata": {
        "id": "iLPLEYRauR1m"
      },
      "source": [
        "class Discriminator(nn.Module):\n",
        "    def __init__(self, ngpu):\n",
        "        super(Discriminator, self).__init__()\n",
        "        self.ngpu = ngpu\n",
        "        self.main = nn.Sequential(\n",
        "            # input is (nc) x 128 x 128\n",
        "            nn.Conv2d(nc, ndf, 4, 2, 1, bias=False),\n",
        "            nn.LeakyReLU(),\n",
        "            # state size. (ndf) x 64 x 64\n",
        "            nn.Conv2d(ndf, ndf * 2, 4, 2, 1, bias=False),\n",
        "            nn.LeakyReLU(),\n",
        "            # state size. (ndf*2) x 32 x 32\n",
        "            nn.Conv2d(ndf*2, ndf * 2, 4, 2, 1, bias=False),\n",
        "            nn.LeakyReLU(),\n",
        "            # state size. (ndf*2) x 16 x 16\n",
        "            nn.Conv2d(ndf * 2, ndf * 4, 4, 2, 1, bias=False),\n",
        "            nn.LeakyReLU(),\n",
        "            # state size. (ndf*4) x 8 x 8\n",
        "            nn.Conv2d(ndf * 4, ndf * 8, 4, 2, 1, bias=False),\n",
        "            nn.LeakyReLU(),\n",
        "            # state size. (ndf*8) x 4 x 4\n",
        "            nn.Conv2d(ndf * 8, 1, 4, 1, 0, bias=False),\n",
        "        )\n",
        "\n",
        "    def forward(self, input):\n",
        "        return self.main(input)"
      ],
      "execution_count": null,
      "outputs": []
    },
    {
      "cell_type": "code",
      "metadata": {
        "id": "Jxxpar_LuVKp"
      },
      "source": [
        "# Create the Discriminator\n",
        "netD = Discriminator(ngpu).to(device)\n",
        "\n",
        "# Handle multi-gpu if desired\n",
        "if (device.type == 'cuda') and (ngpu > 1):\n",
        "    netD = nn.DataParallel(netD, list(range(ngpu)))\n",
        "\n",
        "# Apply the weights_init function to randomly initialize all weights\n",
        "#  to mean=0, stdev=0.2.\n",
        "netD.apply(weights_init)\n",
        "\n",
        "# Print the model\n",
        "print(netD)"
      ],
      "execution_count": null,
      "outputs": []
    },
    {
      "cell_type": "code",
      "metadata": {
        "colab": {
          "base_uri": "https://localhost:8080/"
        },
        "id": "SbVwaSwYvi74",
        "outputId": "abf3db2e-9e64-4858-be9a-11eb36caeb80"
      },
      "source": [
        "dummy_input = torch.randn(1, 3, 128, 128).to(device) # batch_size, channels, size, size\n",
        "out = netD(dummy_input)\n",
        "out.shape"
      ],
      "execution_count": null,
      "outputs": [
        {
          "output_type": "execute_result",
          "data": {
            "text/plain": [
              "torch.Size([1, 1, 1, 1])"
            ]
          },
          "metadata": {
            "tags": []
          },
          "execution_count": 13
        }
      ]
    },
    {
      "cell_type": "markdown",
      "metadata": {
        "id": "hBdiCrm5v5Sd"
      },
      "source": [
        "# Optimizers"
      ]
    },
    {
      "cell_type": "code",
      "metadata": {
        "id": "41MRDgUbv115"
      },
      "source": [
        "# Create batch of latent vectors that we will use to visualize\n",
        "#  the progression of the generator\n",
        "fixed_batch = 64\n",
        "fixed_noise = torch.randn(fixed_batch, nz, 1, 1, device=device)\n",
        "\n",
        "# Learning rate for optimizers\n",
        "lr = 1e-4\n",
        "# Beta1 hyperparam for Adam optimizers\n",
        "beta1 = 0.5\n",
        "\n",
        "# Setup Adam optimizers for both G and D\n",
        "optimizerD = optim.Adam(netD.parameters(), lr=lr, betas=(beta1, 0.9))\n",
        "optimizerG = optim.Adam(netG.parameters(), lr=lr, betas=(beta1, 0.9))"
      ],
      "execution_count": null,
      "outputs": []
    },
    {
      "cell_type": "markdown",
      "metadata": {
        "id": "uxj_qaLjlBi0"
      },
      "source": [
        "# Gradient Penalty"
      ]
    },
    {
      "cell_type": "code",
      "metadata": {
        "id": "iVuEe-WxlAG8"
      },
      "source": [
        "def calc_gradient_penalty(netD, real_data, fake_data, b_size, LAMBDA=10.0):\n",
        "    alpha = torch.rand(b_size, 1, 1, 1)\n",
        "    alpha = alpha.to(device)\n",
        "\n",
        "    interpolates = alpha * real_data + ((1 - alpha) * fake_data)\n",
        "\n",
        "    interpolates = interpolates.to(device)\n",
        "    interpolates = autograd.Variable(interpolates, requires_grad=True)\n",
        "\n",
        "    disc_interpolates = netD(interpolates)\n",
        "\n",
        "    gradients = autograd.grad(outputs=disc_interpolates, \n",
        "                  inputs=interpolates,       \n",
        "                  grad_outputs=torch.ones(disc_interpolates.size()).to(device),\n",
        "                  create_graph=True,\n",
        "                  retain_graph=True,\n",
        "                  only_inputs=True)[0]\n",
        "    gradients = gradients.view(gradients.size(0), -1)\n",
        "\n",
        "    gradient_penalty = ((gradients.norm(2, dim=1) - 1) ** 2).mean() * LAMBDA\n",
        "    return gradient_penalty\n"
      ],
      "execution_count": null,
      "outputs": []
    },
    {
      "cell_type": "markdown",
      "metadata": {
        "id": "q5Paju1AwGgO"
      },
      "source": [
        "# Training"
      ]
    },
    {
      "cell_type": "code",
      "metadata": {
        "colab": {
          "background_save": true
        },
        "id": "KnYY0vcMwC_J"
      },
      "source": [
        "# Training Loop\n",
        "\n",
        "# Lists to keep track of progress\n",
        "G_losses = []\n",
        "D_losses = []\n",
        "iters = 0\n",
        "save_model_path = # The path where the models are saved\n",
        "save_img_path = # The path where the generated images are saved\n",
        "base = 0\n",
        "# Number of training epochs\n",
        "num_epochs = 500\n",
        "save_epochs = 50\n",
        "\n",
        "if base != 0:\n",
        "  # Load the pre-trained model and continue training\n",
        "  netD.load_state_dict(torch.load('/Dis_at_ep%d'%base))\n",
        "  netG.load_state_dict(torch.load('/Gen_at_ep%d'%base))\n",
        "\n",
        "print(\"Starting Training Loop...\")\n",
        "# For each epoch\n",
        "for epoch in range(num_epochs):\n",
        "    # For each batch in the dataloader\n",
        "    for i, data in enumerate(dataloader, 0):\n",
        "\n",
        "        one = torch.FloatTensor([1.0]).to(device)\n",
        "        mone = (one * -1).to(device)\n",
        "        ############################\n",
        "        # (1) Update D network: maximize D(x) - D(G(z)) - Gradient Penalty\n",
        "        ###########################\n",
        "        for p in netD.parameters():  # reset requires_grad\n",
        "          p.requires_grad = True  # they are set to False below in netG update\n",
        "        ## Train with all-real batch\n",
        "        netD.zero_grad()\n",
        "        # Format batch\n",
        "        real_cpu = data[0].to(device)\n",
        "        b_size = real_cpu.size(0)\n",
        "        # Forward pass real batch through D\n",
        "        output = netD(real_cpu).view(-1)\n",
        "        # Calculate loss on all-real batch\n",
        "        errD_real = output.mean().view(1)\n",
        "        # Calculate gradients for D in backward pass\n",
        "        errD_real.backward(mone)\n",
        "        D_x = output.mean().item()\n",
        "\n",
        "        ## Train with all-fake batch\n",
        "        # Generate batch of latent vectors\n",
        "        noise = torch.randn(b_size, nz, 1, 1, device=device)\n",
        "        # Generate fake image batch with G\n",
        "        fake = netG(noise)\n",
        "        # Classify all fake batch with D\n",
        "        output = netD(fake.detach()).view(-1)\n",
        "        # Calculate D's loss on the all-fake batch\n",
        "        errD_fake = output.mean().view(1)\n",
        "        # Calculate the gradients for this batch, accumulated (summed) with previous gradients\n",
        "        errD_fake.backward(one)\n",
        "        D_G_z1 = output.mean().item()\n",
        "\n",
        "        # train with gradient penalty\n",
        "        gradient_penalty = calc_gradient_penalty(netD, real_cpu, fake, b_size)\n",
        "        gradient_penalty.backward()\n",
        "\n",
        "        # Compute error of D as sum over the fake and the real batches and gradient penalty\n",
        "        errD = errD_fake - errD_real + gradient_penalty\n",
        "        Wasserstein_D = errD_real - errD_fake\n",
        "        # Update D\n",
        "        optimizerD.step()\n",
        "\n",
        "        ############################\n",
        "        # (2) Update G network: maximize D(G(z))\n",
        "        ###########################\n",
        "        for p in netD.parameters():\n",
        "          p.requires_grad = False  # to avoid computation\n",
        "        netG.zero_grad()\n",
        "        # Since we just updated D, perform another forward pass of all-fake batch through D\n",
        "        output = netD(fake).view(-1)\n",
        "        # Calculate G's loss based on this output\n",
        "        errG = output.mean().view(1)\n",
        "        # Calculate gradients for G\n",
        "        errG.backward(mone)\n",
        "        D_G_z2 = output.mean().item()\n",
        "        # Update G\n",
        "        optimizerG.step()\n",
        "        errG = -errG\n",
        "\n",
        "        # Output training stats\n",
        "        if i % 50 == 0 or i == len(dataloader)-1:\n",
        "            print('[%d/%d][%d/%d]\\tLoss_D: %.4f\\tWasserstein_D: %.4f\\tLoss_G: %.4f\\tD(x): %.4f\\tD(G(z)): %.4f / %.4f'\n",
        "                  % (epoch+1, num_epochs, i+1, len(dataloader),\n",
        "                     errD.item(), Wasserstein_D.item(), errG.item(), D_x, D_G_z1, D_G_z2))\n",
        "\n",
        "        # Save Losses for plotting later\n",
        "        G_losses.append(errG.item())\n",
        "        D_losses.append(errD.item())\n",
        "\n",
        "        # Check how the generator is doing by saving G's output on fixed_noise\n",
        "        if (iters % 500 == 0) or ((epoch == num_epochs-1) and (i == len(dataloader)-1)):\n",
        "            # Save the generated pics\n",
        "            with torch.no_grad():\n",
        "                fake = netG(fixed_noise).detach().cpu()\n",
        "            fake = fake.detach().numpy()\n",
        "            plt.figure(figsize=(50, 50))\n",
        "            for i in range(fixed_batch):\n",
        "              ax = plt.subplot(8, 8, i + 1)\n",
        "              b = np.swapaxes(np.swapaxes(fake[i], 0,1),1,2)\n",
        "              plt.imshow(((b+1)*127.5).astype(\"uint8\"))\n",
        "              plt.axis(\"off\")\n",
        "\n",
        "            plt.savefig(save_img_path+\"At_ep%d_iter%d.png\" %(epoch+base+1, iters+1))\n",
        "            print(\"Save pig at ep %d (iter: %d).\" %(epoch+base+1, iters+1))\n",
        "\n",
        "        iters += 1\n",
        "\n",
        "    if (epoch+1)%save_epochs==0 or epoch==num_epochs-1:\n",
        "      torch.save(netG.state_dict(), save_model_path+'Gen_at_ep'+str(epoch+base+1))\n",
        "      torch.save(netD.state_dict(), save_model_path+'Dis_at_ep'+str(epoch+base+1))\n",
        "\n",
        "      # Plot the training history\n",
        "      plt.figure(figsize=(10,5))\n",
        "      plt.title(\"Generator and Discriminator Loss During Training\")\n",
        "      plt.plot(G_losses,label=\"G\")\n",
        "      plt.plot(D_losses,label=\"D\")\n",
        "      plt.xlabel(\"iterations\")\n",
        "      plt.ylabel(\"Loss\")\n",
        "      plt.legend()\n",
        "      plt.savefig(save_img_path+'Loss_ep_'+str(base)+'_to_ep'+str(base+epoch+1)+'.png')"
      ],
      "execution_count": null,
      "outputs": []
    }
  ]
}